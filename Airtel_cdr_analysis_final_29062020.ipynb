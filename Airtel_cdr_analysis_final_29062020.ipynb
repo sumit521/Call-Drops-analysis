{
 "cells": [
  {
   "cell_type": "code",
   "execution_count": null,
   "metadata": {
    "scrolled": true
   },
   "outputs": [],
   "source": [
    "import pandas as pd\n",
    "import numpy as np\n",
    "from datetime import datetime\n",
    "from collections import Counter\n",
    "\n",
    "mylist = []\n",
    "\n",
    "for chunk in  pd.read_csv('xaa.txt',sep=',',header=0, error_bad_lines= False, low_memory=False,chunksize=1000000):\n",
    "    mylist.append(chunk)\n",
    "\n",
    "hf = pd.concat(mylist, axis= 0)\n",
    "del mylist\n",
    "df=hf\n",
    "column=['A_NUMBER','B_NUMBER','TIME','DURATION','CELL1','CELL2']\n",
    "df.columns=column\n",
    "\n",
    "\n",
    "df_cdr = df\n",
    "\n",
    "\n",
    "df_cdr.A_NUMBER=pd.to_numeric(df_cdr.A_NUMBER, errors='coerce').fillna(0).map(int)\n",
    "df_cdr.B_NUMBER=pd.to_numeric(df_cdr.B_NUMBER, errors='coerce').fillna(0).map(int)\n",
    "df_cdr.DURATION = pd.to_numeric(df_cdr.DURATION,errors='coerce').fillna(0).map(int)\n",
    "\n",
    "df_cdr['COUNT']=df_cdr.groupby('CELL2')['CELL2'].transform('count')\n",
    "df_cdr['CALL_START_TIME'] =  pd.to_timedelta(df_cdr['TIME'], errors ='coerce')\n",
    "df_cdr['CALL_DURATION'] =  pd.to_timedelta(df_cdr['DURATION'], unit = 'S')\n",
    "df_cdr['CALL_END_TIME'] = df_cdr['CALL_START_TIME']+df_cdr['CALL_DURATION']\n",
    "\n",
    "df_cdr[['A_NUMBER','B_NUMBER']] = np.sort(df_cdr[['A_NUMBER','B_NUMBER']], axis=1)\n",
    "df_cdr['DUPLICATES']= df_cdr.duplicated(subset = ['A_NUMBER','B_NUMBER'], keep = False)\n",
    "gf = df_cdr[df_cdr['DUPLICATES']]\n",
    "df_cdr = gf\n",
    "\n",
    "df_cdr.sort_values(by=['A_NUMBER','B_NUMBER', 'CALL_START_TIME'], inplace=True)\n",
    "df_cdr.CALL_START_TIME = df_cdr.CALL_START_TIME.shift(-1)\n",
    "df_cdr['CALL_TIME_DIFFERENCE']=df_cdr['CALL_START_TIME']-df_cdr['CALL_END_TIME']\n",
    "time_compare = pd.to_timedelta(30, unit = 'S')\n",
    "time_zero = pd.to_timedelta(0, unit = 'S')\n",
    "out=df_cdr[((df_cdr['CALL_TIME_DIFFERENCE'] < time_compare )&(df_cdr['CALL_TIME_DIFFERENCE'] > time_zero ))]\n",
    "\n",
    "out['DROPS']=out.groupby('CELL2')['CELL2'].transform('count')\n",
    "out['PERCENTAGE']=out['DROPS']/out['COUNT']*100\n",
    "\n",
    "filtered = out[['CELL2','COUNT','DROPS','PERCENTAGE']]\n",
    "\n",
    "filtered1 = filtered.drop_duplicates('CELL2')\n",
    "x=filtered1['COUNT'].mean()\n",
    "a=filtered1['DROPS'].mean()\n",
    "filtered1['ATTENTION_SCORE']= (0.4*filtered1['COUNT']/x+0.6*filtered1['DROPS']/a)*filtered1['PERCENTAGE']\n",
    "filtered1.to_csv('results_filtered.csv', index =False)\n",
    "out.to_csv('results.csv',index = False)"
   ]
  },
  {
   "cell_type": "code",
   "execution_count": null,
   "metadata": {},
   "outputs": [],
   "source": [
    "\n"
   ]
  }
 ],
 "metadata": {
  "kernelspec": {
   "display_name": "Python 3",
   "language": "python",
   "name": "python3"
  },
  "language_info": {
   "codemirror_mode": {
    "name": "ipython",
    "version": 3
   },
   "file_extension": ".py",
   "mimetype": "text/x-python",
   "name": "python",
   "nbconvert_exporter": "python",
   "pygments_lexer": "ipython3",
   "version": "3.7.6"
  }
 },
 "nbformat": 4,
 "nbformat_minor": 4
}
